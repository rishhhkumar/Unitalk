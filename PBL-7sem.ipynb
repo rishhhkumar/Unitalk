{
 "cells": [
  {
   "cell_type": "code",
   "execution_count": 1,
   "id": "c0754200",
   "metadata": {
    "scrolled": true
   },
   "outputs": [
    {
     "name": "stdout",
     "output_type": "stream",
     "text": [
      "Requirement already satisfied: playsound in ./anaconda3/lib/python3.10/site-packages (1.3.0)\n",
      "Requirement already satisfied: SpeechRecognition in ./anaconda3/lib/python3.10/site-packages (3.11.0)\n",
      "Requirement already satisfied: requests>=2.26.0 in ./anaconda3/lib/python3.10/site-packages (from SpeechRecognition) (2.31.0)\n",
      "Requirement already satisfied: typing-extensions in ./anaconda3/lib/python3.10/site-packages (from SpeechRecognition) (4.12.2)\n",
      "Requirement already satisfied: idna<4,>=2.5 in ./anaconda3/lib/python3.10/site-packages (from requests>=2.26.0->SpeechRecognition) (2.10)\n",
      "Requirement already satisfied: urllib3<3,>=1.21.1 in ./anaconda3/lib/python3.10/site-packages (from requests>=2.26.0->SpeechRecognition) (1.26.14)\n",
      "Requirement already satisfied: certifi>=2017.4.17 in ./anaconda3/lib/python3.10/site-packages (from requests>=2.26.0->SpeechRecognition) (2022.12.7)\n",
      "Requirement already satisfied: charset-normalizer<4,>=2 in ./anaconda3/lib/python3.10/site-packages (from requests>=2.26.0->SpeechRecognition) (2.0.4)\n",
      "Requirement already satisfied: googletrans in ./anaconda3/lib/python3.10/site-packages (3.0.0)\n",
      "Requirement already satisfied: httpx==0.13.3 in ./anaconda3/lib/python3.10/site-packages (from googletrans) (0.13.3)\n",
      "Requirement already satisfied: certifi in ./anaconda3/lib/python3.10/site-packages (from httpx==0.13.3->googletrans) (2022.12.7)\n",
      "Requirement already satisfied: hstspreload in ./anaconda3/lib/python3.10/site-packages (from httpx==0.13.3->googletrans) (2024.10.1)\n",
      "Requirement already satisfied: sniffio in ./anaconda3/lib/python3.10/site-packages (from httpx==0.13.3->googletrans) (1.3.1)\n",
      "Requirement already satisfied: rfc3986<2,>=1.3 in ./anaconda3/lib/python3.10/site-packages (from httpx==0.13.3->googletrans) (1.5.0)\n",
      "Requirement already satisfied: httpcore==0.9.* in ./anaconda3/lib/python3.10/site-packages (from httpx==0.13.3->googletrans) (0.9.1)\n",
      "Requirement already satisfied: chardet==3.* in ./anaconda3/lib/python3.10/site-packages (from httpx==0.13.3->googletrans) (3.0.4)\n",
      "Requirement already satisfied: idna==2.* in ./anaconda3/lib/python3.10/site-packages (from httpx==0.13.3->googletrans) (2.10)\n",
      "Requirement already satisfied: h11<0.10,>=0.8 in ./anaconda3/lib/python3.10/site-packages (from httpcore==0.9.*->httpx==0.13.3->googletrans) (0.9.0)\n",
      "Requirement already satisfied: h2==3.* in ./anaconda3/lib/python3.10/site-packages (from httpcore==0.9.*->httpx==0.13.3->googletrans) (3.2.0)\n",
      "Requirement already satisfied: hpack<4,>=3.0 in ./anaconda3/lib/python3.10/site-packages (from h2==3.*->httpcore==0.9.*->httpx==0.13.3->googletrans) (3.0.0)\n",
      "Requirement already satisfied: hyperframe<6,>=5.2.0 in ./anaconda3/lib/python3.10/site-packages (from h2==3.*->httpcore==0.9.*->httpx==0.13.3->googletrans) (5.2.0)\n",
      "Requirement already satisfied: gTTs in ./anaconda3/lib/python3.10/site-packages (2.5.3)\n",
      "Requirement already satisfied: requests<3,>=2.27 in ./anaconda3/lib/python3.10/site-packages (from gTTs) (2.31.0)\n",
      "Requirement already satisfied: click<8.2,>=7.1 in ./anaconda3/lib/python3.10/site-packages (from gTTs) (8.0.4)\n",
      "Requirement already satisfied: charset-normalizer<4,>=2 in ./anaconda3/lib/python3.10/site-packages (from requests<3,>=2.27->gTTs) (2.0.4)\n",
      "Requirement already satisfied: urllib3<3,>=1.21.1 in ./anaconda3/lib/python3.10/site-packages (from requests<3,>=2.27->gTTs) (1.26.14)\n",
      "Requirement already satisfied: idna<4,>=2.5 in ./anaconda3/lib/python3.10/site-packages (from requests<3,>=2.27->gTTs) (2.10)\n",
      "Requirement already satisfied: certifi>=2017.4.17 in ./anaconda3/lib/python3.10/site-packages (from requests<3,>=2.27->gTTs) (2022.12.7)\n",
      "Requirement already satisfied: gTTS-token in ./anaconda3/lib/python3.10/site-packages (1.1.4)\n",
      "Requirement already satisfied: requests in ./anaconda3/lib/python3.10/site-packages (from gTTS-token) (2.31.0)\n",
      "Requirement already satisfied: certifi>=2017.4.17 in ./anaconda3/lib/python3.10/site-packages (from requests->gTTS-token) (2022.12.7)\n",
      "Requirement already satisfied: charset-normalizer<4,>=2 in ./anaconda3/lib/python3.10/site-packages (from requests->gTTS-token) (2.0.4)\n",
      "Requirement already satisfied: idna<4,>=2.5 in ./anaconda3/lib/python3.10/site-packages (from requests->gTTS-token) (2.10)\n",
      "Requirement already satisfied: urllib3<3,>=1.21.1 in ./anaconda3/lib/python3.10/site-packages (from requests->gTTS-token) (1.26.14)\n"
     ]
    }
   ],
   "source": [
    "!pip install playsound\n",
    "!pip install SpeechRecognition\n",
    "!pip install googletrans\n",
    "!pip install gTTs\n",
    "!pip install gTTS-token"
   ]
  },
  {
   "cell_type": "code",
   "execution_count": 2,
   "id": "ab73b3ea",
   "metadata": {
    "collapsed": true
   },
   "outputs": [
    {
     "name": "stdout",
     "output_type": "stream",
     "text": [
      "Requirement already satisfied: translate in ./anaconda3/lib/python3.10/site-packages (3.6.1)\r\n",
      "Requirement already satisfied: libretranslatepy==2.1.1 in ./anaconda3/lib/python3.10/site-packages (from translate) (2.1.1)\r\n",
      "Requirement already satisfied: click in ./anaconda3/lib/python3.10/site-packages (from translate) (8.0.4)\r\n",
      "Requirement already satisfied: lxml in ./anaconda3/lib/python3.10/site-packages (from translate) (4.9.1)\r\n",
      "Requirement already satisfied: requests in ./anaconda3/lib/python3.10/site-packages (from translate) (2.31.0)\r\n",
      "Requirement already satisfied: certifi>=2017.4.17 in ./anaconda3/lib/python3.10/site-packages (from requests->translate) (2022.12.7)\r\n",
      "Requirement already satisfied: idna<4,>=2.5 in ./anaconda3/lib/python3.10/site-packages (from requests->translate) (2.10)\r\n",
      "Requirement already satisfied: charset-normalizer<4,>=2 in ./anaconda3/lib/python3.10/site-packages (from requests->translate) (2.0.4)\r\n",
      "Requirement already satisfied: urllib3<3,>=1.21.1 in ./anaconda3/lib/python3.10/site-packages (from requests->translate) (1.26.14)\r\n"
     ]
    }
   ],
   "source": [
    "!pip install translate"
   ]
  },
  {
   "cell_type": "code",
   "execution_count": 3,
   "id": "b4ed8754",
   "metadata": {
    "collapsed": true
   },
   "outputs": [
    {
     "name": "stdout",
     "output_type": "stream",
     "text": [
      "Requirement already satisfied: pipwin in ./anaconda3/lib/python3.10/site-packages (0.5.2)\n",
      "Requirement already satisfied: pyprind in ./anaconda3/lib/python3.10/site-packages (from pipwin) (2.11.3)\n",
      "Requirement already satisfied: pySmartDL>=1.3.1 in ./anaconda3/lib/python3.10/site-packages (from pipwin) (1.3.4)\n",
      "Requirement already satisfied: beautifulsoup4>=4.9.0 in ./anaconda3/lib/python3.10/site-packages (from pipwin) (4.11.1)\n",
      "Requirement already satisfied: docopt in ./anaconda3/lib/python3.10/site-packages (from pipwin) (0.6.2)\n",
      "Requirement already satisfied: packaging in ./anaconda3/lib/python3.10/site-packages (from pipwin) (23.2)\n",
      "Requirement already satisfied: js2py in ./anaconda3/lib/python3.10/site-packages (from pipwin) (0.74)\n",
      "Requirement already satisfied: requests in ./anaconda3/lib/python3.10/site-packages (from pipwin) (2.31.0)\n",
      "Requirement already satisfied: six in ./anaconda3/lib/python3.10/site-packages (from pipwin) (1.16.0)\n",
      "Requirement already satisfied: soupsieve>1.2 in ./anaconda3/lib/python3.10/site-packages (from beautifulsoup4>=4.9.0->pipwin) (2.3.2.post1)\n",
      "Requirement already satisfied: tzlocal>=1.2 in ./anaconda3/lib/python3.10/site-packages (from js2py->pipwin) (5.2)\n",
      "Requirement already satisfied: pyjsparser>=2.5.1 in ./anaconda3/lib/python3.10/site-packages (from js2py->pipwin) (2.7.1)\n",
      "Requirement already satisfied: idna<4,>=2.5 in ./anaconda3/lib/python3.10/site-packages (from requests->pipwin) (2.10)\n",
      "Requirement already satisfied: urllib3<3,>=1.21.1 in ./anaconda3/lib/python3.10/site-packages (from requests->pipwin) (1.26.14)\n",
      "Requirement already satisfied: charset-normalizer<4,>=2 in ./anaconda3/lib/python3.10/site-packages (from requests->pipwin) (2.0.4)\n",
      "Requirement already satisfied: certifi>=2017.4.17 in ./anaconda3/lib/python3.10/site-packages (from requests->pipwin) (2022.12.7)\n"
     ]
    }
   ],
   "source": [
    "!pip install pipwin"
   ]
  },
  {
   "cell_type": "code",
   "execution_count": 4,
   "id": "614468c2",
   "metadata": {},
   "outputs": [
    {
     "name": "stdout",
     "output_type": "stream",
     "text": [
      "Homebrew 4.4.2\n",
      "Homebrew is already installed.\n"
     ]
    },
    {
     "name": "stderr",
     "output_type": "stream",
     "text": [
      "Warning: portaudio 19.7.0 is already installed and up-to-date.\n",
      "To reinstall 19.7.0, run:\n",
      "  brew reinstall portaudio\n"
     ]
    },
    {
     "name": "stdout",
     "output_type": "stream",
     "text": [
      "PortAudio installed successfully.\n",
      "Requirement already satisfied: pyaudio in ./anaconda3/lib/python3.10/site-packages (0.2.14)\n",
      "PyAudio installed successfully.\n"
     ]
    }
   ],
   "source": [
    "import os\n",
    "import subprocess\n",
    "\n",
    "def install_homebrew():\n",
    "    # Check if Homebrew is installed\n",
    "    try:\n",
    "        subprocess.run([\"brew\", \"--version\"], check=True)\n",
    "        print(\"Homebrew is already installed.\")\n",
    "    except subprocess.CalledProcessError:\n",
    "        print(\"Homebrew not found. Installing Homebrew...\")\n",
    "        # Install Homebrew\n",
    "        os.system('/bin/bash -c \"$(curl -fsSL https://raw.githubusercontent.com/Homebrew/install/HEAD/install.sh)\"')\n",
    "        # Add Homebrew to PATH\n",
    "        os.system('echo \\'eval \"$(/opt/homebrew/bin/brew shellenv)\"\\' >> ~/.zprofile')\n",
    "        os.system('eval \"$(/opt/homebrew/bin/brew shellenv)\"')\n",
    "        print(\"Homebrew installed successfully.\")\n",
    "\n",
    "def install_portaudio_and_pyaudio():\n",
    "    try:\n",
    "        # Install portaudio using Homebrew\n",
    "        subprocess.run([\"brew\", \"install\", \"portaudio\"], check=True)\n",
    "        print(\"PortAudio installed successfully.\")\n",
    "        \n",
    "        # Install pyaudio using pip\n",
    "        subprocess.run([\"pip\", \"install\", \"pyaudio\"], check=True)\n",
    "        print(\"PyAudio installed successfully.\")\n",
    "    except subprocess.CalledProcessError as e:\n",
    "        print(f\"An error occurred: {e}\")\n",
    "\n",
    "if __name__ == \"__main__\":\n",
    "    install_homebrew()\n",
    "    install_portaudio_and_pyaudio()\n"
   ]
  },
  {
   "cell_type": "code",
   "execution_count": 5,
   "id": "785da576",
   "metadata": {},
   "outputs": [],
   "source": [
    "# Importing necessary modules required \n",
    "from playsound import playsound \n",
    "import speech_recognition as sr \n",
    "from googletrans import Translator \n",
    "from gtts import gTTS \n",
    "import os"
   ]
  },
  {
   "cell_type": "code",
   "execution_count": 6,
   "id": "c538d10e",
   "metadata": {},
   "outputs": [],
   "source": [
    "dic=('afrikaans', 'af', 'albanian', 'sq', 'amharic', 'am', \n",
    "\t'arabic', 'ar', 'armenian', 'hy', 'azerbaijani', 'az', \n",
    "'basque', 'eu', 'belarusian', 'be', 'bengali', 'bn', 'bosnian', \n",
    "\t'bs', 'bulgarian', 'bg', 'catalan', 'ca', \n",
    "'cebuano', 'ceb', 'chichewa', 'ny', 'chinese (simplified)', \n",
    "\t'zh-cn', 'chinese (traditional)', 'zh-tw', \n",
    "'corsican', 'co', 'croatian', 'hr', 'czech', 'cs', 'danish', \n",
    "\t'da', 'dutch', 'nl', 'english', 'en', 'esperanto', \n",
    "'eo', 'estonian', 'et', 'filipino', 'tl', 'finnish', 'fi', \n",
    "\t'french', 'fr', 'frisian', 'fy', 'galician', 'gl', \n",
    "'georgian', 'ka', 'german', 'de', 'greek', 'el', 'gujarati', \n",
    "\t'gu', 'haitian creole', 'ht', 'hausa', 'ha', \n",
    "'hawaiian', 'haw', 'hebrew', 'he', 'hindi', 'hi', 'hmong', \n",
    "\t'hmn', 'hungarian', 'hu', 'icelandic', 'is', 'igbo', \n",
    "'ig', 'indonesian', 'id', 'irish', 'ga', 'italian', 'it', \n",
    "\t'japanese', 'ja', 'javanese', 'jw', 'kannada', 'kn', \n",
    "'kazakh', 'kk', 'khmer', 'km', 'korean', 'ko', 'kurdish (kurmanji)', \n",
    "\t'ku', 'kyrgyz', 'ky', 'lao', 'lo', \n",
    "'latin', 'la', 'latvian', 'lv', 'lithuanian', 'lt', 'luxembourgish', \n",
    "\t'lb', 'macedonian', 'mk', 'malagasy', \n",
    "'mg', 'malay', 'ms', 'malayalam', 'ml', 'maltese', 'mt', 'maori', \n",
    "\t'mi', 'marathi', 'mr', 'mongolian', 'mn', \n",
    "'myanmar (burmese)', 'my', 'nepali', 'ne', 'norwegian', 'no', \n",
    "\t'odia', 'or', 'pashto', 'ps', 'persian', \n",
    "'fa', 'polish', 'pl', 'portuguese', 'pt', 'punjabi', 'pa', \n",
    "\t'romanian', 'ro', 'russian', 'ru', 'samoan', \n",
    "'sm', 'scots gaelic', 'gd', 'serbian', 'sr', 'sesotho', \n",
    "\t'st', 'shona', 'sn', 'sindhi', 'sd', 'sinhala', \n",
    "'si', 'slovak', 'sk', 'slovenian', 'sl', 'somali', 'so', \n",
    "\t'spanish', 'es', 'sundanese', 'su', \n",
    "'swahili', 'sw', 'swedish', 'sv', 'tajik', 'tg', 'tamil', \n",
    "\t'ta', 'telugu', 'te', 'thai', 'th', 'turkish', 'tr', \n",
    "'ukrainian', 'uk', 'urdu', 'ur', 'uyghur', 'ug', 'uzbek', \n",
    "\t'uz', 'vietnamese', 'vi', 'welsh', 'cy', 'xhosa', 'xh', \n",
    "'yiddish', 'yi', 'yoruba', 'yo', 'zulu', 'zu')\n"
   ]
  },
  {
   "cell_type": "code",
   "execution_count": 7,
   "id": "fa9f0806",
   "metadata": {},
   "outputs": [],
   "source": [
    "# Capture Voice \n",
    "# takes command through microphone \n",
    "def takecommand(): \n",
    "\tr = sr.Recognizer() \n",
    "\twith sr.Microphone() as source: \n",
    "\t\tprint(\"listening.....\") \n",
    "\t\tr.pause_threshold = 1\n",
    "\t\taudio = r.listen(source) \n",
    "\n",
    "\ttry: \n",
    "\t\tprint(\"Recognizing.....\") \n",
    "\t\tquery = r.recognize_google(audio, language='en-in') \n",
    "\t\tprint(f\"user said {query}\\n\") \n",
    "\texcept Exception as e: \n",
    "\t\tprint(\"say that again please.....\") \n",
    "\t\treturn \"None\"\n",
    "\treturn query \n"
   ]
  },
  {
   "cell_type": "code",
   "execution_count": 52,
   "id": "d8466c4a",
   "metadata": {},
   "outputs": [
    {
     "name": "stdout",
     "output_type": "stream",
     "text": [
      "listening.....\n",
      "Recognizing.....\n",
      "user said hey I did the project\n",
      "\n"
     ]
    }
   ],
   "source": [
    "# Taking voice input from the user \n",
    "query = takecommand() \n",
    "while (query == \"None\"): \n",
    "\tquery = takecommand() "
   ]
  },
  {
   "cell_type": "code",
   "execution_count": 53,
   "id": "bfadf267",
   "metadata": {},
   "outputs": [
    {
     "name": "stdout",
     "output_type": "stream",
     "text": [
      "Enter the language in which you want to convert \\ : Ex. Hindi , English , etc.\n",
      "\n",
      "listening.....\n",
      "Recognizing.....\n",
      "user said Spanish\n",
      "\n"
     ]
    }
   ],
   "source": [
    "def destination_language(): \n",
    "\tprint(\"Enter the language in which you want to convert \\ : Ex. Hindi , English , etc.\") \n",
    "\tprint() \n",
    "\n",
    "\t# Input destination language in which the user \n",
    "\t# wants to translate \n",
    "\tto_lang = takecommand() \n",
    "\twhile (to_lang == \"None\"): \n",
    "\t\tto_lang = takecommand() \n",
    "\tto_lang = to_lang.lower() \n",
    "\treturn to_lang \n",
    "\n",
    "to_lang = destination_language() \n",
    "\n",
    "# Mapping it with the code \n",
    "while (to_lang not in dic): \n",
    "\tprint(\"Language in which you are trying to convert\\ is currently not available ,please input some other language\") \n",
    "\tprint() \n",
    "\tto_lang = destination_language() \n",
    "\n",
    "to_lang = dic[dic.index(to_lang)+1] \n"
   ]
  },
  {
   "cell_type": "code",
   "execution_count": 36,
   "id": "96182abc",
   "metadata": {},
   "outputs": [],
   "source": [
    "# invoking Translator \n",
    "translator = Translator() "
   ]
  },
  {
   "cell_type": "code",
   "execution_count": 14,
   "id": "ec5cb691",
   "metadata": {
    "collapsed": true
   },
   "outputs": [
    {
     "name": "stdout",
     "output_type": "stream",
     "text": [
      "Requirement already satisfied: pip in ./anaconda3/lib/python3.10/site-packages (22.3.1)\n",
      "Collecting pip\n",
      "  Downloading pip-24.2-py3-none-any.whl (1.8 MB)\n",
      "\u001b[2K     \u001b[90m━━━━━━━━━━━━━━━━━━━━━━━━━━━━━━━━━━━━━━━━\u001b[0m \u001b[32m1.8/1.8 MB\u001b[0m \u001b[31m3.4 MB/s\u001b[0m eta \u001b[36m0:00:00\u001b[0m00:01\u001b[0m00:01\u001b[0m\n",
      "\u001b[?25hInstalling collected packages: pip\n",
      "  Attempting uninstall: pip\n",
      "    Found existing installation: pip 22.3.1\n",
      "    Uninstalling pip-22.3.1:\n",
      "      Successfully uninstalled pip-22.3.1\n",
      "Successfully installed pip-24.2\n"
     ]
    }
   ],
   "source": [
    "!pip install --upgrade pip"
   ]
  },
  {
   "cell_type": "code",
   "execution_count": 16,
   "id": "ceda9c99",
   "metadata": {
    "collapsed": true
   },
   "outputs": [
    {
     "name": "stdout",
     "output_type": "stream",
     "text": [
      "Looking in indexes: https://pypi.python.org/simple/\n",
      "Collecting googletrans==4.0.0-rc1\n",
      "  Downloading googletrans-4.0.0rc1.tar.gz (20 kB)\n",
      "  Preparing metadata (setup.py) ... \u001b[?25ldone\n",
      "\u001b[?25hRequirement already satisfied: httpx==0.13.3 in ./anaconda3/lib/python3.10/site-packages (from googletrans==4.0.0-rc1) (0.13.3)\n",
      "Requirement already satisfied: certifi in ./anaconda3/lib/python3.10/site-packages (from httpx==0.13.3->googletrans==4.0.0-rc1) (2022.12.7)\n",
      "Requirement already satisfied: hstspreload in ./anaconda3/lib/python3.10/site-packages (from httpx==0.13.3->googletrans==4.0.0-rc1) (2024.10.1)\n",
      "Requirement already satisfied: sniffio in ./anaconda3/lib/python3.10/site-packages (from httpx==0.13.3->googletrans==4.0.0-rc1) (1.3.1)\n",
      "Requirement already satisfied: chardet==3.* in ./anaconda3/lib/python3.10/site-packages (from httpx==0.13.3->googletrans==4.0.0-rc1) (3.0.4)\n",
      "Requirement already satisfied: idna==2.* in ./anaconda3/lib/python3.10/site-packages (from httpx==0.13.3->googletrans==4.0.0-rc1) (2.10)\n",
      "Requirement already satisfied: rfc3986<2,>=1.3 in ./anaconda3/lib/python3.10/site-packages (from httpx==0.13.3->googletrans==4.0.0-rc1) (1.5.0)\n",
      "Requirement already satisfied: httpcore==0.9.* in ./anaconda3/lib/python3.10/site-packages (from httpx==0.13.3->googletrans==4.0.0-rc1) (0.9.1)\n",
      "Requirement already satisfied: h11<0.10,>=0.8 in ./anaconda3/lib/python3.10/site-packages (from httpcore==0.9.*->httpx==0.13.3->googletrans==4.0.0-rc1) (0.9.0)\n",
      "Requirement already satisfied: h2==3.* in ./anaconda3/lib/python3.10/site-packages (from httpcore==0.9.*->httpx==0.13.3->googletrans==4.0.0-rc1) (3.2.0)\n",
      "Requirement already satisfied: hyperframe<6,>=5.2.0 in ./anaconda3/lib/python3.10/site-packages (from h2==3.*->httpcore==0.9.*->httpx==0.13.3->googletrans==4.0.0-rc1) (5.2.0)\n",
      "Requirement already satisfied: hpack<4,>=3.0 in ./anaconda3/lib/python3.10/site-packages (from h2==3.*->httpcore==0.9.*->httpx==0.13.3->googletrans==4.0.0-rc1) (3.0.0)\n",
      "Building wheels for collected packages: googletrans\n",
      "  Building wheel for googletrans (setup.py) ... \u001b[?25ldone\n",
      "\u001b[?25h  Created wheel for googletrans: filename=googletrans-4.0.0rc1-py3-none-any.whl size=17398 sha256=f8b8a91b68b5902910432e2a7199536df428261eb4fd14f20c26d203093ae351\n",
      "  Stored in directory: /Users/rishikakumar/Library/Caches/pip/wheels/c0/59/9f/7372f0cf70160fe61b528532e1a7c8498c4becd6bcffb022de\n",
      "Successfully built googletrans\n",
      "Installing collected packages: googletrans\n",
      "  Attempting uninstall: googletrans\n",
      "    Found existing installation: googletrans 3.0.0\n",
      "    Uninstalling googletrans-3.0.0:\n",
      "      Successfully uninstalled googletrans-3.0.0\n",
      "Successfully installed googletrans-4.0.0rc1\n"
     ]
    }
   ],
   "source": [
    "!pip install googletrans==4.0.0-rc1 --index-url https://pypi.python.org/simple/"
   ]
  },
  {
   "cell_type": "code",
   "execution_count": 19,
   "id": "cc319653",
   "metadata": {
    "collapsed": true
   },
   "outputs": [
    {
     "name": "stdout",
     "output_type": "stream",
     "text": [
      "Collecting google-cloud-translate\n",
      "  Downloading google_cloud_translate-3.16.0-py2.py3-none-any.whl.metadata (5.3 kB)\n",
      "Collecting google-api-core!=2.0.*,!=2.1.*,!=2.10.*,!=2.2.*,!=2.3.*,!=2.4.*,!=2.5.*,!=2.6.*,!=2.7.*,!=2.8.*,!=2.9.*,<3.0.0dev,>=1.34.1 (from google-api-core[grpc]!=2.0.*,!=2.1.*,!=2.10.*,!=2.2.*,!=2.3.*,!=2.4.*,!=2.5.*,!=2.6.*,!=2.7.*,!=2.8.*,!=2.9.*,<3.0.0dev,>=1.34.1->google-cloud-translate)\n",
      "  Downloading google_api_core-2.21.0-py3-none-any.whl.metadata (2.8 kB)\n",
      "Collecting google-auth!=2.24.0,!=2.25.0,<3.0.0dev,>=2.14.1 (from google-cloud-translate)\n",
      "  Downloading google_auth-2.35.0-py2.py3-none-any.whl.metadata (4.7 kB)\n",
      "Collecting google-cloud-core<3.0.0dev,>=1.4.4 (from google-cloud-translate)\n",
      "  Downloading google_cloud_core-2.4.1-py2.py3-none-any.whl.metadata (2.7 kB)\n",
      "Collecting proto-plus<2.0.0dev,>=1.22.3 (from google-cloud-translate)\n",
      "  Downloading proto_plus-1.24.0-py3-none-any.whl.metadata (2.2 kB)\n",
      "Requirement already satisfied: protobuf!=4.21.0,!=4.21.1,!=4.21.2,!=4.21.3,!=4.21.4,!=4.21.5,<6.0.0dev,>=3.20.2 in ./anaconda3/lib/python3.10/site-packages (from google-cloud-translate) (4.25.3)\n",
      "Collecting grpc-google-iam-v1<1.0.0dev,>=0.12.4 (from google-cloud-translate)\n",
      "  Downloading grpc_google_iam_v1-0.13.1-py2.py3-none-any.whl.metadata (3.3 kB)\n",
      "Requirement already satisfied: googleapis-common-protos<2.0.dev0,>=1.56.2 in ./anaconda3/lib/python3.10/site-packages (from google-api-core!=2.0.*,!=2.1.*,!=2.10.*,!=2.2.*,!=2.3.*,!=2.4.*,!=2.5.*,!=2.6.*,!=2.7.*,!=2.8.*,!=2.9.*,<3.0.0dev,>=1.34.1->google-api-core[grpc]!=2.0.*,!=2.1.*,!=2.10.*,!=2.2.*,!=2.3.*,!=2.4.*,!=2.5.*,!=2.6.*,!=2.7.*,!=2.8.*,!=2.9.*,<3.0.0dev,>=1.34.1->google-cloud-translate) (1.63.0)\n",
      "Requirement already satisfied: requests<3.0.0.dev0,>=2.18.0 in ./anaconda3/lib/python3.10/site-packages (from google-api-core!=2.0.*,!=2.1.*,!=2.10.*,!=2.2.*,!=2.3.*,!=2.4.*,!=2.5.*,!=2.6.*,!=2.7.*,!=2.8.*,!=2.9.*,<3.0.0dev,>=1.34.1->google-api-core[grpc]!=2.0.*,!=2.1.*,!=2.10.*,!=2.2.*,!=2.3.*,!=2.4.*,!=2.5.*,!=2.6.*,!=2.7.*,!=2.8.*,!=2.9.*,<3.0.0dev,>=1.34.1->google-cloud-translate) (2.31.0)\n",
      "Collecting grpcio<2.0dev,>=1.33.2 (from google-api-core[grpc]!=2.0.*,!=2.1.*,!=2.10.*,!=2.2.*,!=2.3.*,!=2.4.*,!=2.5.*,!=2.6.*,!=2.7.*,!=2.8.*,!=2.9.*,<3.0.0dev,>=1.34.1->google-cloud-translate)\n",
      "  Downloading grpcio-1.67.0-cp310-cp310-macosx_12_0_universal2.whl.metadata (3.9 kB)\n",
      "Collecting grpcio-status<2.0.dev0,>=1.33.2 (from google-api-core[grpc]!=2.0.*,!=2.1.*,!=2.10.*,!=2.2.*,!=2.3.*,!=2.4.*,!=2.5.*,!=2.6.*,!=2.7.*,!=2.8.*,!=2.9.*,<3.0.0dev,>=1.34.1->google-cloud-translate)\n",
      "  Downloading grpcio_status-1.67.0-py3-none-any.whl.metadata (1.1 kB)\n",
      "Collecting cachetools<6.0,>=2.0.0 (from google-auth!=2.24.0,!=2.25.0,<3.0.0dev,>=2.14.1->google-cloud-translate)\n",
      "  Downloading cachetools-5.5.0-py3-none-any.whl.metadata (5.3 kB)\n",
      "Requirement already satisfied: pyasn1-modules>=0.2.1 in ./anaconda3/lib/python3.10/site-packages (from google-auth!=2.24.0,!=2.25.0,<3.0.0dev,>=2.14.1->google-cloud-translate) (0.2.8)\n",
      "Requirement already satisfied: rsa<5,>=3.1.4 in ./anaconda3/lib/python3.10/site-packages (from google-auth!=2.24.0,!=2.25.0,<3.0.0dev,>=2.14.1->google-cloud-translate) (4.9)\n",
      "INFO: pip is looking at multiple versions of grpcio-status to determine which version is compatible with other requirements. This could take a while.\n",
      "Collecting grpcio-status<2.0.dev0,>=1.33.2 (from google-api-core[grpc]!=2.0.*,!=2.1.*,!=2.10.*,!=2.2.*,!=2.3.*,!=2.4.*,!=2.5.*,!=2.6.*,!=2.7.*,!=2.8.*,!=2.9.*,<3.0.0dev,>=1.34.1->google-cloud-translate)\n",
      "  Downloading grpcio_status-1.66.2-py3-none-any.whl.metadata (1.1 kB)\n",
      "  Downloading grpcio_status-1.66.1-py3-none-any.whl.metadata (1.1 kB)\n",
      "  Downloading grpcio_status-1.66.0-py3-none-any.whl.metadata (1.1 kB)\n",
      "  Downloading grpcio_status-1.65.5-py3-none-any.whl.metadata (1.1 kB)\n",
      "  Downloading grpcio_status-1.65.4-py3-none-any.whl.metadata (1.1 kB)\n",
      "  Downloading grpcio_status-1.65.2-py3-none-any.whl.metadata (1.1 kB)\n",
      "  Downloading grpcio_status-1.65.1-py3-none-any.whl.metadata (1.1 kB)\n",
      "INFO: pip is still looking at multiple versions of grpcio-status to determine which version is compatible with other requirements. This could take a while.\n",
      "  Downloading grpcio_status-1.64.3-py3-none-any.whl.metadata (1.1 kB)\n",
      "  Downloading grpcio_status-1.64.1-py3-none-any.whl.metadata (1.1 kB)\n",
      "  Downloading grpcio_status-1.64.0-py3-none-any.whl.metadata (1.1 kB)\n",
      "  Downloading grpcio_status-1.63.2-py3-none-any.whl.metadata (1.1 kB)\n",
      "  Downloading grpcio_status-1.63.0-py3-none-any.whl.metadata (1.1 kB)\n",
      "INFO: This is taking longer than usual. You might need to provide the dependency resolver with stricter constraints to reduce runtime. See https://pip.pypa.io/warnings/backtracking for guidance. If you want to abort this run, press Ctrl + C.\n",
      "  Downloading grpcio_status-1.62.3-py3-none-any.whl.metadata (1.3 kB)\n",
      "Requirement already satisfied: pyasn1<0.5.0,>=0.4.6 in ./anaconda3/lib/python3.10/site-packages (from pyasn1-modules>=0.2.1->google-auth!=2.24.0,!=2.25.0,<3.0.0dev,>=2.14.1->google-cloud-translate) (0.4.8)\n",
      "Requirement already satisfied: charset-normalizer<4,>=2 in ./anaconda3/lib/python3.10/site-packages (from requests<3.0.0.dev0,>=2.18.0->google-api-core!=2.0.*,!=2.1.*,!=2.10.*,!=2.2.*,!=2.3.*,!=2.4.*,!=2.5.*,!=2.6.*,!=2.7.*,!=2.8.*,!=2.9.*,<3.0.0dev,>=1.34.1->google-api-core[grpc]!=2.0.*,!=2.1.*,!=2.10.*,!=2.2.*,!=2.3.*,!=2.4.*,!=2.5.*,!=2.6.*,!=2.7.*,!=2.8.*,!=2.9.*,<3.0.0dev,>=1.34.1->google-cloud-translate) (2.0.4)\n",
      "Requirement already satisfied: idna<4,>=2.5 in ./anaconda3/lib/python3.10/site-packages (from requests<3.0.0.dev0,>=2.18.0->google-api-core!=2.0.*,!=2.1.*,!=2.10.*,!=2.2.*,!=2.3.*,!=2.4.*,!=2.5.*,!=2.6.*,!=2.7.*,!=2.8.*,!=2.9.*,<3.0.0dev,>=1.34.1->google-api-core[grpc]!=2.0.*,!=2.1.*,!=2.10.*,!=2.2.*,!=2.3.*,!=2.4.*,!=2.5.*,!=2.6.*,!=2.7.*,!=2.8.*,!=2.9.*,<3.0.0dev,>=1.34.1->google-cloud-translate) (2.10)\n",
      "Requirement already satisfied: urllib3<3,>=1.21.1 in ./anaconda3/lib/python3.10/site-packages (from requests<3.0.0.dev0,>=2.18.0->google-api-core!=2.0.*,!=2.1.*,!=2.10.*,!=2.2.*,!=2.3.*,!=2.4.*,!=2.5.*,!=2.6.*,!=2.7.*,!=2.8.*,!=2.9.*,<3.0.0dev,>=1.34.1->google-api-core[grpc]!=2.0.*,!=2.1.*,!=2.10.*,!=2.2.*,!=2.3.*,!=2.4.*,!=2.5.*,!=2.6.*,!=2.7.*,!=2.8.*,!=2.9.*,<3.0.0dev,>=1.34.1->google-cloud-translate) (1.26.14)\n",
      "Requirement already satisfied: certifi>=2017.4.17 in ./anaconda3/lib/python3.10/site-packages (from requests<3.0.0.dev0,>=2.18.0->google-api-core!=2.0.*,!=2.1.*,!=2.10.*,!=2.2.*,!=2.3.*,!=2.4.*,!=2.5.*,!=2.6.*,!=2.7.*,!=2.8.*,!=2.9.*,<3.0.0dev,>=1.34.1->google-api-core[grpc]!=2.0.*,!=2.1.*,!=2.10.*,!=2.2.*,!=2.3.*,!=2.4.*,!=2.5.*,!=2.6.*,!=2.7.*,!=2.8.*,!=2.9.*,<3.0.0dev,>=1.34.1->google-cloud-translate) (2022.12.7)\n",
      "Downloading google_cloud_translate-3.16.0-py2.py3-none-any.whl (175 kB)\n",
      "Downloading google_api_core-2.21.0-py3-none-any.whl (156 kB)\n",
      "Downloading google_auth-2.35.0-py2.py3-none-any.whl (208 kB)\n",
      "Downloading google_cloud_core-2.4.1-py2.py3-none-any.whl (29 kB)\n",
      "Downloading grpc_google_iam_v1-0.13.1-py2.py3-none-any.whl (24 kB)\n",
      "Downloading proto_plus-1.24.0-py3-none-any.whl (50 kB)\n",
      "Downloading cachetools-5.5.0-py3-none-any.whl (9.5 kB)\n",
      "Downloading grpcio-1.67.0-cp310-cp310-macosx_12_0_universal2.whl (10.9 MB)\n",
      "\u001b[2K   \u001b[90m━━━━━━━━━━━━━━━━━━━━━━━━━━━━━━━━━━━━━━━━\u001b[0m \u001b[32m10.9/10.9 MB\u001b[0m \u001b[31m3.9 MB/s\u001b[0m eta \u001b[36m0:00:00\u001b[0m00:01\u001b[0m0:01\u001b[0m\n",
      "\u001b[?25hDownloading grpcio_status-1.62.3-py3-none-any.whl (14 kB)\n",
      "Installing collected packages: proto-plus, grpcio, cachetools, grpcio-status, google-auth, grpc-google-iam-v1, google-api-core, google-cloud-core, google-cloud-translate\n",
      "Successfully installed cachetools-5.5.0 google-api-core-2.21.0 google-auth-2.35.0 google-cloud-core-2.4.1 google-cloud-translate-3.16.0 grpc-google-iam-v1-0.13.1 grpcio-1.67.0 grpcio-status-1.62.3 proto-plus-1.24.0\n"
     ]
    }
   ],
   "source": [
    "!pip install google-cloud-translate"
   ]
  },
  {
   "cell_type": "code",
   "execution_count": 25,
   "id": "06a6b278",
   "metadata": {
    "collapsed": true
   },
   "outputs": [
    {
     "name": "stdout",
     "output_type": "stream",
     "text": [
      "Collecting deep-translator\n",
      "  Downloading deep_translator-1.11.4-py3-none-any.whl.metadata (30 kB)\n",
      "Requirement already satisfied: beautifulsoup4<5.0.0,>=4.9.1 in ./anaconda3/lib/python3.10/site-packages (from deep-translator) (4.11.1)\n",
      "Requirement already satisfied: requests<3.0.0,>=2.23.0 in ./anaconda3/lib/python3.10/site-packages (from deep-translator) (2.31.0)\n",
      "Requirement already satisfied: soupsieve>1.2 in ./anaconda3/lib/python3.10/site-packages (from beautifulsoup4<5.0.0,>=4.9.1->deep-translator) (2.3.2.post1)\n",
      "Requirement already satisfied: charset-normalizer<4,>=2 in ./anaconda3/lib/python3.10/site-packages (from requests<3.0.0,>=2.23.0->deep-translator) (2.0.4)\n",
      "Requirement already satisfied: idna<4,>=2.5 in ./anaconda3/lib/python3.10/site-packages (from requests<3.0.0,>=2.23.0->deep-translator) (2.10)\n",
      "Requirement already satisfied: urllib3<3,>=1.21.1 in ./anaconda3/lib/python3.10/site-packages (from requests<3.0.0,>=2.23.0->deep-translator) (1.26.14)\n",
      "Requirement already satisfied: certifi>=2017.4.17 in ./anaconda3/lib/python3.10/site-packages (from requests<3.0.0,>=2.23.0->deep-translator) (2022.12.7)\n",
      "Downloading deep_translator-1.11.4-py3-none-any.whl (42 kB)\n",
      "Installing collected packages: deep-translator\n",
      "Successfully installed deep-translator-1.11.4\n"
     ]
    }
   ],
   "source": [
    "!pip install deep-translator"
   ]
  },
  {
   "cell_type": "code",
   "execution_count": 42,
   "id": "4d299f26",
   "metadata": {},
   "outputs": [],
   "source": [
    "from deep_translator import GoogleTranslator\n",
    "\n",
    "def translate_text(query, to_lang):\n",
    "    try:\n",
    "        # Automatically detects the source language and translates\n",
    "        translated = GoogleTranslator(source='auto', target=to_lang).translate(query)\n",
    "        return translated\n",
    "    except Exception as e:\n",
    "        print(f\"An error occurred: {e}\")\n",
    "        return None\n",
    "# # Example usage:\n",
    "# query = \"Hello, how are you?\"\n",
    "# to_lang = \"es\"  # Spanish\n",
    "# translated_text = translate_text(query, to_lang)\n",
    "# print(translated_text)"
   ]
  },
  {
   "cell_type": "code",
   "execution_count": 54,
   "id": "961de72e",
   "metadata": {},
   "outputs": [],
   "source": [
    "# Translating from src to dest \n",
    "text_to_translate = translate_text(query, to_lang) \n",
    "text = text_to_translate "
   ]
  },
  {
   "cell_type": "code",
   "execution_count": 55,
   "id": "16e7f302",
   "metadata": {},
   "outputs": [
    {
     "name": "stdout",
     "output_type": "stream",
     "text": [
      "Hola hice el proyecto\n"
     ]
    }
   ],
   "source": [
    "# Using Google-Text-to-Speech ie, gTTS() method \n",
    "# to speak the translated text into the \n",
    "# destination language which is stored in to_lang. \n",
    "# Also, we have given 3rd argument as False because \n",
    "# by default it speaks very slowly \n",
    "speak = gTTS(text=text, lang=to_lang, slow=False) \n",
    "\n",
    "# Using save() method to save the translated \n",
    "# speech in capture_voice.mp3 \n",
    "speak.save(\"captured_voice.mp3\") \n",
    "\n",
    "# Using OS module to run the translated voice. \n",
    "playsound('captured_voice.mp3') \n",
    "os.remove('captured_voice.mp3') \n",
    "print(text) "
   ]
  },
  {
   "cell_type": "code",
   "execution_count": null,
   "id": "924e2d9e",
   "metadata": {},
   "outputs": [],
   "source": []
  }
 ],
 "metadata": {
  "kernelspec": {
   "display_name": "Python 3 (ipykernel)",
   "language": "python",
   "name": "python3"
  },
  "language_info": {
   "codemirror_mode": {
    "name": "ipython",
    "version": 3
   },
   "file_extension": ".py",
   "mimetype": "text/x-python",
   "name": "python",
   "nbconvert_exporter": "python",
   "pygments_lexer": "ipython3",
   "version": "3.10.9"
  }
 },
 "nbformat": 4,
 "nbformat_minor": 5
}
